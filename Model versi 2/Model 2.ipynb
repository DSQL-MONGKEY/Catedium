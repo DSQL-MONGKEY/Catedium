{
  "nbformat": 4,
  "nbformat_minor": 0,
  "metadata": {
    "colab": {
      "provenance": [],
      "gpuType": "V28"
    },
    "kernelspec": {
      "name": "python3",
      "display_name": "Python 3"
    },
    "language_info": {
      "name": "python"
    },
    "accelerator": "TPU"
  },
  "cells": [
    {
      "cell_type": "markdown",
      "source": [
        "## Mengambil dataset dari google drive"
      ],
      "metadata": {
        "id": "QuysX30OXXFq"
      }
    },
    {
      "cell_type": "code",
      "execution_count": 1,
      "metadata": {
        "colab": {
          "base_uri": "https://localhost:8080/"
        },
        "id": "vwwoHqyRWDt7",
        "outputId": "f1609c3f-4959-4da4-f81c-870e9351a5dc"
      },
      "outputs": [
        {
          "output_type": "stream",
          "name": "stdout",
          "text": [
            "Mounted at /content/drive\n"
          ]
        }
      ],
      "source": [
        "from google.colab import drive\n",
        "drive.mount('/content/drive')"
      ]
    },
    {
      "cell_type": "code",
      "source": [
        "import zipfile\n",
        "import os\n",
        "\n",
        "# Fungsi untuk ekstraksi file ZIP\n",
        "def extract_zip(zip_file_path, extract_dir):\n",
        "    os.makedirs(extract_dir, exist_ok=True)\n",
        "    with zipfile.ZipFile(zip_file_path, 'r') as zip_ref:\n",
        "        zip_ref.extractall(extract_dir)\n",
        "    print(f\"File dari {zip_file_path} telah diekstrak ke {extract_dir}\")\n",
        "\n",
        "# Ekstraksi dataset\n",
        "extract_zip('/content/drive/MyDrive/Adik Drive/dataset.zip', '/content/dataset/')"
      ],
      "metadata": {
        "colab": {
          "base_uri": "https://localhost:8080/"
        },
        "id": "o5WcDjhnWdVs",
        "outputId": "94b17354-76e4-4273-e737-6fc01b5f0eb4"
      },
      "execution_count": 2,
      "outputs": [
        {
          "output_type": "stream",
          "name": "stdout",
          "text": [
            "File dari /content/drive/MyDrive/Adik Drive/dataset.zip telah diekstrak ke /content/dataset/\n"
          ]
        }
      ]
    },
    {
      "cell_type": "code",
      "source": [
        "# List file yang telah diekstrak\n",
        "print(\"File yang telah diekstrak dari dataset.zip:\")\n",
        "print(os.listdir('/content/dataset/'))"
      ],
      "metadata": {
        "colab": {
          "base_uri": "https://localhost:8080/"
        },
        "id": "Nnnf11q2XDwT",
        "outputId": "f1f00a48-a75d-4146-ea13-a158d64c0648"
      },
      "execution_count": 3,
      "outputs": [
        {
          "output_type": "stream",
          "name": "stdout",
          "text": [
            "File yang telah diekstrak dari dataset.zip:\n",
            "['train', 'test']\n"
          ]
        }
      ]
    },
    {
      "cell_type": "markdown",
      "source": [
        "## Importing the libraries"
      ],
      "metadata": {
        "id": "qEC161dfXdnR"
      }
    },
    {
      "cell_type": "code",
      "source": [
        "import tensorflow as tf\n",
        "from keras.preprocessing.image import ImageDataGenerator\n",
        "from keras.callbacks import EarlyStopping, ReduceLROnPlateau\n",
        "tf.__version__"
      ],
      "metadata": {
        "colab": {
          "base_uri": "https://localhost:8080/",
          "height": 35
        },
        "id": "gVW6fzYzXLtY",
        "outputId": "f40797a4-1756-485b-d682-b890fb7e5f98"
      },
      "execution_count": 4,
      "outputs": [
        {
          "output_type": "execute_result",
          "data": {
            "text/plain": [
              "'2.15.0'"
            ],
            "application/vnd.google.colaboratory.intrinsic+json": {
              "type": "string"
            }
          },
          "metadata": {},
          "execution_count": 4
        }
      ]
    },
    {
      "cell_type": "markdown",
      "source": [
        "# Part 1 - Data Preprocessing"
      ],
      "metadata": {
        "id": "dQGNlao5Xk7q"
      }
    },
    {
      "cell_type": "code",
      "source": [
        "# Augmentasi data untuk generator pelatihan dengan augmentasi\n",
        "train_datagen = ImageDataGenerator(\n",
        "    rescale=1./255,\n",
        "    rotation_range=30,            # Rotasi gambar\n",
        "    width_shift_range=0.2,        # Pergeseran horizontal\n",
        "    height_shift_range=0.2,       # Pergeseran vertikal\n",
        "    shear_range=0.2,              # Shear transformation\n",
        "    zoom_range=0.2,               # Zoom in/out\n",
        "    horizontal_flip=True,         # Flipping horizontal\n",
        "    fill_mode='nearest',          # Metode pengisian untuk piksel yang kosong\n",
        "    brightness_range=[0.5, 1.5]   # Rentang kecerahan\n",
        ")\n",
        "\n",
        "# Augmentasi data untuk generator validasi (hanya rescaling)\n",
        "validation_datagen = ImageDataGenerator(rescale=1./255)\n",
        "\n",
        "# Generator pelatihan\n",
        "training_set = train_datagen.flow_from_directory(\n",
        "        '/content/dataset/train',\n",
        "        target_size=(128, 128),\n",
        "        batch_size=64,             # Meningkatkan ukuran batch\n",
        "        class_mode='categorical'\n",
        ")\n",
        "\n",
        "# Generator validasi\n",
        "validation_set = validation_datagen.flow_from_directory(\n",
        "        '/content/dataset/test',\n",
        "        target_size=(128, 128),\n",
        "        batch_size=64,\n",
        "        class_mode='categorical'\n",
        ")"
      ],
      "metadata": {
        "colab": {
          "base_uri": "https://localhost:8080/"
        },
        "id": "zd2bbvRSkQ9Z",
        "outputId": "1e6f0aa2-2d37-441e-8032-06a7712bf0eb"
      },
      "execution_count": 5,
      "outputs": [
        {
          "output_type": "stream",
          "name": "stdout",
          "text": [
            "Found 2339 images belonging to 10 classes.\n",
            "Found 50 images belonging to 10 classes.\n"
          ]
        }
      ]
    },
    {
      "cell_type": "markdown",
      "source": [
        "# Part 2 - Building the CNN"
      ],
      "metadata": {
        "id": "sEjPQn38YGrd"
      }
    },
    {
      "cell_type": "code",
      "source": [
        "# Inisialisasi model CNN\n",
        "cnn = tf.keras.models.Sequential([\n",
        "    # Convolutional Layer 1\n",
        "    tf.keras.layers.Conv2D(filters=32, kernel_size=3, activation='relu', input_shape=[128, 128, 3]),\n",
        "    # Max Pooling Layer 1\n",
        "    tf.keras.layers.MaxPool2D(pool_size=2, strides=2),\n",
        "    # Convolutional Layer 2\n",
        "    tf.keras.layers.Conv2D(filters=64, kernel_size=3, activation='relu'),\n",
        "    # Max Pooling Layer 2\n",
        "    tf.keras.layers.MaxPool2D(pool_size=2, strides=2),\n",
        "    # Convolutional Layer 3\n",
        "    tf.keras.layers.Conv2D(filters=128, kernel_size=3, activation='relu'),\n",
        "    # Max Pooling Layer 3\n",
        "    tf.keras.layers.MaxPool2D(pool_size=2, strides=2),\n",
        "    # Convolutional Layer 4\n",
        "    tf.keras.layers.Conv2D(filters=128, kernel_size=3, activation='relu'),\n",
        "    # Max Pooling Layer 4\n",
        "    tf.keras.layers.MaxPool2D(pool_size=2, strides=2),\n",
        "    # Flattening Layer\n",
        "    tf.keras.layers.Flatten(),\n",
        "    # Fully Connected Layer 1\n",
        "    tf.keras.layers.Dense(units=256, activation='relu'),\n",
        "    # Dropout Layer to prevent overfitting\n",
        "    tf.keras.layers.Dropout(0.5),\n",
        "    # Fully Connected Layer 2\n",
        "    tf.keras.layers.Dense(units=128, activation='relu'),\n",
        "    # Dropout Layer to prevent overfitting\n",
        "    tf.keras.layers.Dropout(0.5),\n",
        "    # Output Layer\n",
        "    tf.keras.layers.Dense(units=10, activation='softmax')\n",
        "])"
      ],
      "metadata": {
        "id": "WiCltCaOwo7L"
      },
      "execution_count": 6,
      "outputs": []
    },
    {
      "cell_type": "markdown",
      "source": [
        "# Part 3 - Training the CNN"
      ],
      "metadata": {
        "id": "3GbvpwLPY20Y"
      }
    },
    {
      "cell_type": "markdown",
      "source": [
        "## Compiling the CNN"
      ],
      "metadata": {
        "id": "funDkkwdZAam"
      }
    },
    {
      "cell_type": "code",
      "source": [
        "# Early Stopping\n",
        "early_stopping = EarlyStopping(monitor='val_loss', patience=10, restore_best_weights=True)\n",
        "\n",
        "# Reduce Learning Rate when a metric has stopped improving.\n",
        "reduce_lr = ReduceLROnPlateau(monitor='val_loss', factor=0.2, patience=5, min_lr=0.0001)\n",
        "\n",
        "cnn.compile(optimizer='adam', loss='categorical_crossentropy', metrics=['accuracy'])"
      ],
      "metadata": {
        "id": "kraInq8RZCde"
      },
      "execution_count": 7,
      "outputs": []
    },
    {
      "cell_type": "markdown",
      "source": [
        "## Training the CNN on the Training set and evaluating it on the Test set"
      ],
      "metadata": {
        "id": "laU6LXEYZDzn"
      }
    },
    {
      "cell_type": "code",
      "source": [
        "history = cnn.fit(x=training_set, validation_data=validation_set, epochs=100, callbacks=[early_stopping, reduce_lr])"
      ],
      "metadata": {
        "id": "VO1ekCyXpYEJ",
        "colab": {
          "base_uri": "https://localhost:8080/"
        },
        "outputId": "43c8f29a-9555-4b28-cc73-6bac85530ad4"
      },
      "execution_count": 8,
      "outputs": [
        {
          "output_type": "stream",
          "name": "stdout",
          "text": [
            "Epoch 1/100\n",
            "37/37 [==============================] - 101s 3s/step - loss: 2.3059 - accuracy: 0.1022 - val_loss: 2.2933 - val_accuracy: 0.1000 - lr: 0.0010\n",
            "Epoch 2/100\n",
            "37/37 [==============================] - 100s 3s/step - loss: 2.2652 - accuracy: 0.1248 - val_loss: 2.1454 - val_accuracy: 0.1800 - lr: 0.0010\n",
            "Epoch 3/100\n",
            "37/37 [==============================] - 97s 3s/step - loss: 2.1656 - accuracy: 0.1719 - val_loss: 2.3130 - val_accuracy: 0.1600 - lr: 0.0010\n",
            "Epoch 4/100\n",
            "37/37 [==============================] - 106s 3s/step - loss: 2.0186 - accuracy: 0.2155 - val_loss: 2.6576 - val_accuracy: 0.1400 - lr: 0.0010\n",
            "Epoch 5/100\n",
            "37/37 [==============================] - 98s 3s/step - loss: 1.9737 - accuracy: 0.2330 - val_loss: 2.5189 - val_accuracy: 0.2000 - lr: 0.0010\n",
            "Epoch 6/100\n",
            "37/37 [==============================] - 99s 3s/step - loss: 1.9358 - accuracy: 0.2403 - val_loss: 2.1722 - val_accuracy: 0.1400 - lr: 0.0010\n",
            "Epoch 7/100\n",
            "37/37 [==============================] - 97s 3s/step - loss: 1.8907 - accuracy: 0.2783 - val_loss: 2.1217 - val_accuracy: 0.2400 - lr: 0.0010\n",
            "Epoch 8/100\n",
            "37/37 [==============================] - 100s 3s/step - loss: 1.8475 - accuracy: 0.2967 - val_loss: 2.4918 - val_accuracy: 0.2200 - lr: 0.0010\n",
            "Epoch 9/100\n",
            "37/37 [==============================] - 108s 3s/step - loss: 1.8218 - accuracy: 0.2993 - val_loss: 2.5308 - val_accuracy: 0.1600 - lr: 0.0010\n",
            "Epoch 10/100\n",
            "37/37 [==============================] - 100s 3s/step - loss: 1.7461 - accuracy: 0.3390 - val_loss: 2.2134 - val_accuracy: 0.2400 - lr: 0.0010\n",
            "Epoch 11/100\n",
            "37/37 [==============================] - 97s 3s/step - loss: 1.6876 - accuracy: 0.3591 - val_loss: 2.4868 - val_accuracy: 0.1400 - lr: 0.0010\n",
            "Epoch 12/100\n",
            "37/37 [==============================] - 98s 3s/step - loss: 1.6578 - accuracy: 0.3617 - val_loss: 1.8339 - val_accuracy: 0.4000 - lr: 0.0010\n",
            "Epoch 13/100\n",
            "37/37 [==============================] - 99s 3s/step - loss: 1.6209 - accuracy: 0.3754 - val_loss: 1.6831 - val_accuracy: 0.3800 - lr: 0.0010\n",
            "Epoch 14/100\n",
            "37/37 [==============================] - 104s 3s/step - loss: 1.5804 - accuracy: 0.4087 - val_loss: 2.2996 - val_accuracy: 0.2200 - lr: 0.0010\n",
            "Epoch 15/100\n",
            "37/37 [==============================] - 98s 3s/step - loss: 1.5243 - accuracy: 0.4310 - val_loss: 2.0102 - val_accuracy: 0.3000 - lr: 0.0010\n",
            "Epoch 16/100\n",
            "37/37 [==============================] - 96s 3s/step - loss: 1.5556 - accuracy: 0.4091 - val_loss: 1.6393 - val_accuracy: 0.4200 - lr: 0.0010\n",
            "Epoch 17/100\n",
            "37/37 [==============================] - 95s 3s/step - loss: 1.4552 - accuracy: 0.4412 - val_loss: 1.8835 - val_accuracy: 0.3200 - lr: 0.0010\n",
            "Epoch 18/100\n",
            "37/37 [==============================] - 97s 3s/step - loss: 1.4839 - accuracy: 0.4395 - val_loss: 2.0146 - val_accuracy: 0.3200 - lr: 0.0010\n",
            "Epoch 19/100\n",
            "37/37 [==============================] - 103s 3s/step - loss: 1.4473 - accuracy: 0.4570 - val_loss: 1.5590 - val_accuracy: 0.3800 - lr: 0.0010\n",
            "Epoch 20/100\n",
            "37/37 [==============================] - 98s 3s/step - loss: 1.3984 - accuracy: 0.4609 - val_loss: 1.5602 - val_accuracy: 0.4800 - lr: 0.0010\n",
            "Epoch 21/100\n",
            "37/37 [==============================] - 97s 3s/step - loss: 1.4003 - accuracy: 0.4780 - val_loss: 2.1054 - val_accuracy: 0.4400 - lr: 0.0010\n",
            "Epoch 22/100\n",
            "37/37 [==============================] - 96s 3s/step - loss: 1.3868 - accuracy: 0.4626 - val_loss: 1.2683 - val_accuracy: 0.4800 - lr: 0.0010\n",
            "Epoch 23/100\n",
            "37/37 [==============================] - 96s 3s/step - loss: 1.3343 - accuracy: 0.4780 - val_loss: 1.1364 - val_accuracy: 0.6000 - lr: 0.0010\n",
            "Epoch 24/100\n",
            "37/37 [==============================] - 96s 3s/step - loss: 1.3031 - accuracy: 0.4865 - val_loss: 1.5635 - val_accuracy: 0.4400 - lr: 0.0010\n",
            "Epoch 25/100\n",
            "37/37 [==============================] - 102s 3s/step - loss: 1.2575 - accuracy: 0.5165 - val_loss: 1.4289 - val_accuracy: 0.5000 - lr: 0.0010\n",
            "Epoch 26/100\n",
            "37/37 [==============================] - 96s 3s/step - loss: 1.3011 - accuracy: 0.5058 - val_loss: 1.2643 - val_accuracy: 0.5400 - lr: 0.0010\n",
            "Epoch 27/100\n",
            "37/37 [==============================] - 96s 3s/step - loss: 1.2766 - accuracy: 0.5147 - val_loss: 1.1930 - val_accuracy: 0.5400 - lr: 0.0010\n",
            "Epoch 28/100\n",
            "37/37 [==============================] - 96s 3s/step - loss: 1.2355 - accuracy: 0.5147 - val_loss: 1.0864 - val_accuracy: 0.5400 - lr: 0.0010\n",
            "Epoch 29/100\n",
            "37/37 [==============================] - 97s 3s/step - loss: 1.2934 - accuracy: 0.5053 - val_loss: 1.2164 - val_accuracy: 0.5000 - lr: 0.0010\n",
            "Epoch 30/100\n",
            "37/37 [==============================] - 96s 3s/step - loss: 1.2159 - accuracy: 0.5395 - val_loss: 1.3726 - val_accuracy: 0.4800 - lr: 0.0010\n",
            "Epoch 31/100\n",
            "37/37 [==============================] - 97s 3s/step - loss: 1.1859 - accuracy: 0.5618 - val_loss: 1.4017 - val_accuracy: 0.5800 - lr: 0.0010\n",
            "Epoch 32/100\n",
            "37/37 [==============================] - 99s 3s/step - loss: 1.1741 - accuracy: 0.5447 - val_loss: 1.2316 - val_accuracy: 0.5600 - lr: 0.0010\n",
            "Epoch 33/100\n",
            "37/37 [==============================] - 96s 3s/step - loss: 1.2077 - accuracy: 0.5477 - val_loss: 1.2959 - val_accuracy: 0.6200 - lr: 0.0010\n",
            "Epoch 34/100\n",
            "37/37 [==============================] - 98s 3s/step - loss: 1.1546 - accuracy: 0.5579 - val_loss: 1.4059 - val_accuracy: 0.5000 - lr: 2.0000e-04\n",
            "Epoch 35/100\n",
            "37/37 [==============================] - 96s 3s/step - loss: 1.0839 - accuracy: 0.5956 - val_loss: 1.1830 - val_accuracy: 0.5200 - lr: 2.0000e-04\n",
            "Epoch 36/100\n",
            "37/37 [==============================] - 96s 3s/step - loss: 1.0446 - accuracy: 0.6041 - val_loss: 1.3372 - val_accuracy: 0.5600 - lr: 2.0000e-04\n",
            "Epoch 37/100\n",
            "37/37 [==============================] - 96s 3s/step - loss: 1.0622 - accuracy: 0.5985 - val_loss: 1.1207 - val_accuracy: 0.6000 - lr: 2.0000e-04\n",
            "Epoch 38/100\n",
            "37/37 [==============================] - 96s 3s/step - loss: 1.0422 - accuracy: 0.6041 - val_loss: 1.3512 - val_accuracy: 0.6000 - lr: 2.0000e-04\n"
          ]
        }
      ]
    },
    {
      "cell_type": "code",
      "source": [
        "import matplotlib.pyplot as plt\n",
        "\n",
        "# Ambil data akurasi dari riwayat pelatihan\n",
        "train_accuracy = history.history['accuracy']\n",
        "val_accuracy = history.history['val_accuracy']\n",
        "\n",
        "# Ambil jumlah epochs\n",
        "epochs = range(1, len(train_accuracy) + 1)\n",
        "\n",
        "# Buat plot akurasi pelatihan dan validasi\n",
        "plt.plot(epochs, train_accuracy, 'bo', label='Training Accuracy')\n",
        "plt.plot(epochs, val_accuracy, 'b', label='Validation Accuracy')\n",
        "plt.title('Training and Validation Accuracy')\n",
        "plt.xlabel('Epochs')\n",
        "plt.ylabel('Accuracy')\n",
        "plt.legend()\n",
        "\n",
        "# Tampilkan plot\n",
        "plt.show()"
      ],
      "metadata": {
        "colab": {
          "base_uri": "https://localhost:8080/",
          "height": 472
        },
        "id": "e4FLQett2fvF",
        "outputId": "263d3517-bc83-4f75-94e8-040a171a66a9"
      },
      "execution_count": 9,
      "outputs": [
        {
          "output_type": "display_data",
          "data": {
            "text/plain": [
              "<Figure size 640x480 with 1 Axes>"
            ],
            "image/png": "[encoded data removed]"
          },
          "metadata": {}
        }
      ]
    },
    {
      "cell_type": "markdown",
      "source": [
        "# Part 4 - Making a single prediction with image upload"
      ],
      "metadata": {
        "id": "Dv2HpAMWZJ5V"
      }
    },
    {
      "cell_type": "code",
      "source": [
        "import numpy as np\n",
        "from keras.preprocessing import image\n",
        "from google.colab import files\n",
        "from IPython.display import Image"
      ],
      "metadata": {
        "id": "uxdsadYnbXI0"
      },
      "execution_count": 10,
      "outputs": []
    },
    {
      "cell_type": "code",
      "source": [
        "# Upload image\n",
        "uploaded = files.upload()\n",
        "\n",
        "\n",
        "for filename in uploaded.keys():\n",
        "    # Load and preprocess the image\n",
        "    test_image = image.load_img(filename, target_size=(128, 128))\n",
        "    test_image = image.img_to_array(test_image)\n",
        "    test_image = np.expand_dims(test_image, axis=0)\n",
        "\n",
        "    # Predict the class\n",
        "    result = cnn.predict(test_image)\n",
        "    class_indices = training_set.class_indices\n",
        "    class_indices = {v: k for k, v in class_indices.items()}\n",
        "    prediction = class_indices[np.argmax(result)]\n",
        "\n",
        "    # Display the image and prediction\n",
        "    display(Image(filename=filename))\n",
        "    print(f\"Predicted class: {prediction}\")"
      ],
      "metadata": {
        "id": "smYiLSaQbakT",
        "colab": {
          "base_uri": "https://localhost:8080/",
          "height": 331
        },
        "outputId": "e0e7f4d5-1bc0-4e43-90bb-7734f6535f3d"
      },
      "execution_count": 13,
      "outputs": [
        {
          "output_type": "display_data",
          "data": {
            "text/plain": [
              "<IPython.core.display.HTML object>"
            ],
            "text/html": [
              "\n",
              "     <input type=\"file\" id=\"files-055b0d8c-dbfd-4cd7-8140-e86e2ae81421\" name=\"files[]\" multiple disabled\n",
              "        style=\"border:none\" />\n",
              "     <output id=\"result-055b0d8c-dbfd-4cd7-8140-e86e2ae81421\">\n",
              "      Upload widget is only available when the cell has been executed in the\n",
              "      current browser session. Please rerun this cell to enable.\n",
              "      </output>\n",
              "      <script>// Copyright 2017 Google LLC\n",
              "//\n",
              "// Licensed under the Apache License, Version 2.0 (the \"License\");\n",
              "// you may not use this file except in compliance with the License.\n",
              "// You may obtain a copy of the License at\n",
              "//\n",
              "//      http://www.apache.org/licenses/LICENSE-2.0\n",
              "//\n",
              "// Unless required by applicable law or agreed to in writing, software\n",
              "// distributed under the License is distributed on an \"AS IS\" BASIS,\n",
              "// WITHOUT WARRANTIES OR CONDITIONS OF ANY KIND, either express or implied.\n",
              "// See the License for the specific language governing permissions and\n",
              "// limitations under the License.\n",
              "\n",
              "/**\n",
              " * @fileoverview Helpers for google.colab Python module.\n",
              " */\n",
              "(function(scope) {\n",
              "function span(text, styleAttributes = {}) {\n",
              "  const element = document.createElement('span');\n",
              "  element.textContent = text;\n",
              "  for (const key of Object.keys(styleAttributes)) {\n",
              "    element.style[key] = styleAttributes[key];\n",
              "  }\n",
              "  return element;\n",
              "}\n",
              "\n",
              "// Max number of bytes which will be uploaded at a time.\n",
              "const MAX_PAYLOAD_SIZE = 100 * 1024;\n",
              "\n",
              "function _uploadFiles(inputId, outputId) {\n",
              "  const steps = uploadFilesStep(inputId, outputId);\n",
              "  const outputElement = document.getElementById(outputId);\n",
              "  // Cache steps on the outputElement to make it available for the next call\n",
              "  // to uploadFilesContinue from Python.\n",
              "  outputElement.steps = steps;\n",
              "\n",
              "  return _uploadFilesContinue(outputId);\n",
              "}\n",
              "\n",
              "// This is roughly an async generator (not supported in the browser yet),\n",
              "// where there are multiple asynchronous steps and the Python side is going\n",
              "// to poll for completion of each step.\n",
              "// This uses a Promise to block the python side on completion of each step,\n",
              "// then passes the result of the previous step as the input to the next step.\n",
              "function _uploadFilesContinue(outputId) {\n",
              "  const outputElement = document.getElementById(outputId);\n",
              "  const steps = outputElement.steps;\n",
              "\n",
              "  const next = steps.next(outputElement.lastPromiseValue);\n",
              "  return Promise.resolve(next.value.promise).then((value) => {\n",
              "    // Cache the last promise value to make it available to the next\n",
              "    // step of the generator.\n",
              "    outputElement.lastPromiseValue = value;\n",
              "    return next.value.response;\n",
              "  });\n",
              "}\n",
              "\n",
              "/**\n",
              " * Generator function which is called between each async step of the upload\n",
              " * process.\n",
              " * @param {string} inputId Element ID of the input file picker element.\n",
              " * @param {string} outputId Element ID of the output display.\n",
              " * @return {!Iterable<!Object>} Iterable of next steps.\n",
              " */\n",
              "function* uploadFilesStep(inputId, outputId) {\n",
              "  const inputElement = document.getElementById(inputId);\n",
              "  inputElement.disabled = false;\n",
              "\n",
              "  const outputElement = document.getElementById(outputId);\n",
              "  outputElement.innerHTML = '';\n",
              "\n",
              "  const pickedPromise = new Promise((resolve) => {\n",
              "    inputElement.addEventListener('change', (e) => {\n",
              "      resolve(e.target.files);\n",
              "    });\n",
              "  });\n",
              "\n",
              "  const cancel = document.createElement('button');\n",
              "  inputElement.parentElement.appendChild(cancel);\n",
              "  cancel.textContent = 'Cancel upload';\n",
              "  const cancelPromise = new Promise((resolve) => {\n",
              "    cancel.onclick = () => {\n",
              "      resolve(null);\n",
              "    };\n",
              "  });\n",
              "\n",
              "  // Wait for the user to pick the files.\n",
              "  const files = yield {\n",
              "    promise: Promise.race([pickedPromise, cancelPromise]),\n",
              "    response: {\n",
              "      action: 'starting',\n",
              "    }\n",
              "  };\n",
              "\n",
              "  cancel.remove();\n",
              "\n",
              "  // Disable the input element since further picks are not allowed.\n",
              "  inputElement.disabled = true;\n",
              "\n",
              "  if (!files) {\n",
              "    return {\n",
              "      response: {\n",
              "        action: 'complete',\n",
              "      }\n",
              "    };\n",
              "  }\n",
              "\n",
              "  for (const file of files) {\n",
              "    const li = document.createElement('li');\n",
              "    li.append(span(file.name, {fontWeight: 'bold'}));\n",
              "    li.append(span(\n",
              "        `(${file.type || 'n/a'}) - ${file.size} bytes, ` +\n",
              "        `last modified: ${\n",
              "            file.lastModifiedDate ? file.lastModifiedDate.toLocaleDateString() :\n",
              "                                    'n/a'} - `));\n",
              "    const percent = span('0% done');\n",
              "    li.appendChild(percent);\n",
              "\n",
              "    outputElement.appendChild(li);\n",
              "\n",
              "    const fileDataPromise = new Promise((resolve) => {\n",
              "      const reader = new FileReader();\n",
              "      reader.onload = (e) => {\n",
              "        resolve(e.target.result);\n",
              "      };\n",
              "      reader.readAsArrayBuffer(file);\n",
              "    });\n",
              "    // Wait for the data to be ready.\n",
              "    let fileData = yield {\n",
              "      promise: fileDataPromise,\n",
              "      response: {\n",
              "        action: 'continue',\n",
              "      }\n",
              "    };\n",
              "\n",
              "    // Use a chunked sending to avoid message size limits. See b/62115660.\n",
              "    let position = 0;\n",
              "    do {\n",
              "      const length = Math.min(fileData.byteLength - position, MAX_PAYLOAD_SIZE);\n",
              "      const chunk = new Uint8Array(fileData, position, length);\n",
              "      position += length;\n",
              "\n",
              "      const base64 = btoa(String.fromCharCode.apply(null, chunk));\n",
              "      yield {\n",
              "        response: {\n",
              "          action: 'append',\n",
              "          file: file.name,\n",
              "          data: base64,\n",
              "        },\n",
              "      };\n",
              "\n",
              "      let percentDone = fileData.byteLength === 0 ?\n",
              "          100 :\n",
              "          Math.round((position / fileData.byteLength) * 100);\n",
              "      percent.textContent = `${percentDone}% done`;\n",
              "\n",
              "    } while (position < fileData.byteLength);\n",
              "  }\n",
              "\n",
              "  // All done.\n",
              "  yield {\n",
              "    response: {\n",
              "      action: 'complete',\n",
              "    }\n",
              "  };\n",
              "}\n",
              "\n",
              "scope.google = scope.google || {};\n",
              "scope.google.colab = scope.google.colab || {};\n",
              "scope.google.colab._files = {\n",
              "  _uploadFiles,\n",
              "  _uploadFilesContinue,\n",
              "};\n",
              "})(self);\n",
              "</script> "
            ]
          },
          "metadata": {}
        },
        {
          "output_type": "stream",
          "name": "stdout",
          "text": [
            "Saving 3.jpg to 3 (1).jpg\n",
            "1/1 [==============================] - 0s 29ms/step\n"
          ]
        },
        {
          "output_type": "display_data",
          "data": {
            "image/jpeg": "[encoded data removed]",
            "text/plain": [
              "<IPython.core.display.Image object>"
            ]
          },
          "metadata": {}
        },
        {
          "output_type": "stream",
          "name": "stdout",
          "text": [
            "Predicted class: CLOUDED LEOPARD\n"
          ]
        }
      ]
    },
    {
      "cell_type": "code",
      "source": [
        "# Simpan model ke dalam format HDF5 secara lokal\n",
        "cnn.save('cnn_model.h5')\n",
        "print(\"Model telah disimpan sebagai cnn_model.h5\")"
      ],
      "metadata": {
        "colab": {
          "base_uri": "https://localhost:8080/"
        },
        "id": "xk1s393bBCBO",
        "outputId": "4649d1f7-c0b8-4a4b-af9e-c1aa0dcca08a"
      },
      "execution_count": null,
      "outputs": [
        {
          "output_type": "stream",
          "name": "stdout",
          "text": [
            "Model telah disimpan sebagai cnn_model.h5\n"
          ]
        },
        {
          "output_type": "stream",
          "name": "stderr",
          "text": [
            "/usr/local/lib/python3.10/dist-packages/keras/src/engine/training.py:3103: UserWarning: You are saving your model as an HDF5 file via `model.save()`. This file format is considered legacy. We recommend using instead the native Keras format, e.g. `model.save('my_model.keras')`.\n",
            "  saving_api.save_model(\n"
          ]
        }
      ]
    }
  ]
}