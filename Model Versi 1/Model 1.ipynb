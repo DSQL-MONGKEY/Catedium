{
  "cells": [
    {
      "cell_type": "markdown",
      "metadata": {
        "id": "QuysX30OXXFq"
      },
      "source": [
        "## Mengambil dataset dari google drive"
      ]
    },
    {
      "cell_type": "code",
      "execution_count": 1,
      "metadata": {
        "colab": {
          "base_uri": "https://localhost:8080/"
        },
        "id": "vwwoHqyRWDt7",
        "outputId": "4d0cbae8-6ea2-4939-f72c-bdd46a623534"
      },
      "outputs": [
        {
          "name": "stdout",
          "output_type": "stream",
          "text": [
            "Mounted at /content/drive\n"
          ]
        }
      ],
      "source": [
        "from google.colab import drive\n",
        "drive.mount('/content/drive')"
      ]
    },
    {
      "cell_type": "code",
      "execution_count": 2,
      "metadata": {
        "colab": {
          "base_uri": "https://localhost:8080/"
        },
        "id": "o5WcDjhnWdVs",
        "outputId": "5da04211-d1b8-46ac-ab07-a7a62fd53ee5"
      },
      "outputs": [
        {
          "name": "stdout",
          "output_type": "stream",
          "text": [
            "File dari /content/drive/MyDrive/Adik Drive/dataset.zip telah diekstrak ke /content/dataset/\n"
          ]
        }
      ],
      "source": [
        "import zipfile\n",
        "import os\n",
        "\n",
        "# Fungsi untuk ekstraksi file ZIP\n",
        "def extract_zip(zip_file_path, extract_dir):\n",
        "    os.makedirs(extract_dir, exist_ok=True)\n",
        "    with zipfile.ZipFile(zip_file_path, 'r') as zip_ref:\n",
        "        zip_ref.extractall(extract_dir)\n",
        "    print(f\"File dari {zip_file_path} telah diekstrak ke {extract_dir}\")\n",
        "\n",
        "# Ekstraksi dataset\n",
        "extract_zip('/content/drive/MyDrive/dataset.zip', '/content/dataset/')"
      ]
    },
    {
      "cell_type": "code",
      "execution_count": 3,
      "metadata": {
        "colab": {
          "base_uri": "https://localhost:8080/"
        },
        "id": "Nnnf11q2XDwT",
        "outputId": "3f521c95-c122-4455-861f-2e4b7406e11e"
      },
      "outputs": [
        {
          "name": "stdout",
          "output_type": "stream",
          "text": [
            "File yang telah diekstrak dari dataset.zip:\n",
            "['test', 'train']\n"
          ]
        }
      ],
      "source": [
        "\n",
        "# List file yang telah diekstrak\n",
        "print(\"File yang telah diekstrak dari dataset.zip:\")\n",
        "print(os.listdir('/content/dataset/'))"
      ]
    },
    {
      "cell_type": "markdown",
      "metadata": {
        "id": "qEC161dfXdnR"
      },
      "source": [
        "## Importing the libraries"
      ]
    },
    {
      "cell_type": "code",
      "execution_count": 4,
      "metadata": {
        "colab": {
          "base_uri": "https://localhost:8080/",
          "height": 35
        },
        "id": "gVW6fzYzXLtY",
        "outputId": "327fa6f2-7824-4b9b-8577-ca5a21830458"
      },
      "outputs": [
        {
          "data": {
            "application/vnd.google.colaboratory.intrinsic+json": {
              "type": "string"
            },
            "text/plain": [
              "'2.15.0'"
            ]
          },
          "execution_count": 4,
          "metadata": {},
          "output_type": "execute_result"
        }
      ],
      "source": [
        "import tensorflow as tf\n",
        "from keras.preprocessing.image import ImageDataGenerator\n",
        "from keras.callbacks import EarlyStopping, ReduceLROnPlateau\n",
        "tf.__version__"
      ]
    },
    {
      "cell_type": "markdown",
      "metadata": {
        "id": "dQGNlao5Xk7q"
      },
      "source": [
        "# Part 1 - Data Preprocessing"
      ]
    },
    {
      "cell_type": "code",
      "execution_count": 7,
      "metadata": {
        "colab": {
          "base_uri": "https://localhost:8080/"
        },
        "id": "zd2bbvRSkQ9Z",
        "outputId": "7ab957ac-bbd0-4358-80ac-25d3f80c0466"
      },
      "outputs": [
        {
          "name": "stdout",
          "output_type": "stream",
          "text": [
            "Found 2339 images belonging to 10 classes.\n",
            "Found 50 images belonging to 10 classes.\n"
          ]
        }
      ],
      "source": [
        "# Augmentasi data untuk generator pelatihan\n",
        "train_datagen = ImageDataGenerator(\n",
        "    rescale=1./255,\n",
        "    shear_range=0.2,\n",
        "    zoom_range=0.2,\n",
        "    horizontal_flip=True)\n",
        "\n",
        "# Augmentasi data untuk generator validasi (hanya rescaling)\n",
        "validation_datagen = ImageDataGenerator(rescale=1./255)\n",
        "\n",
        "# Generator pelatihan\n",
        "training_set = train_datagen.flow_from_directory(\n",
        "        '/content/dataset/train',\n",
        "        target_size=(128, 128),\n",
        "        batch_size=32,\n",
        "        class_mode='categorical')\n",
        "\n",
        "# Generator validasi\n",
        "validation_set = validation_datagen.flow_from_directory(\n",
        "        '/content/dataset/test',\n",
        "        target_size=(128, 128),\n",
        "        batch_size=32,\n",
        "        class_mode='categorical')"
      ]
    },
    {
      "cell_type": "markdown",
      "metadata": {
        "id": "sEjPQn38YGrd"
      },
      "source": [
        "# Part 2 - Building the CNN"
      ]
    },
    {
      "cell_type": "markdown",
      "metadata": {
        "id": "HSyFVHIYYJti"
      },
      "source": [
        "## Initialising the CNN"
      ]
    },
    {
      "cell_type": "code",
      "execution_count": 8,
      "metadata": {
        "id": "YUlOfcQJYB3l"
      },
      "outputs": [],
      "source": [
        "cnn = tf.keras.models.Sequential()"
      ]
    },
    {
      "cell_type": "markdown",
      "metadata": {
        "id": "NcBovoI4YMtl"
      },
      "source": [
        "## Step 1 - Convolution"
      ]
    },
    {
      "cell_type": "code",
      "execution_count": 9,
      "metadata": {
        "id": "UkkUTwGWYQba"
      },
      "outputs": [],
      "source": [
        "cnn.add(tf.keras.layers.Conv2D(filters=32, kernel_size=3, activation='relu', input_shape=[128, 128, 3]))"
      ]
    },
    {
      "cell_type": "markdown",
      "metadata": {
        "id": "8DYDOTE8YVP_"
      },
      "source": [
        "## Step 2 - Pooling"
      ]
    },
    {
      "cell_type": "code",
      "execution_count": 10,
      "metadata": {
        "id": "0SlkYkv8YY2A"
      },
      "outputs": [],
      "source": [
        "cnn.add(tf.keras.layers.MaxPool2D(pool_size=2, strides=2))"
      ]
    },
    {
      "cell_type": "markdown",
      "metadata": {
        "id": "Xmrp3HBqYdhk"
      },
      "source": [
        "## Adding more convolutional and pooling layers"
      ]
    },
    {
      "cell_type": "code",
      "execution_count": 11,
      "metadata": {
        "id": "4aK6VARkYgOk"
      },
      "outputs": [],
      "source": [
        "cnn.add(tf.keras.layers.Conv2D(filters=64, kernel_size=3, activation='relu'))\n",
        "cnn.add(tf.keras.layers.MaxPool2D(pool_size=2, strides=2))\n",
        "\n",
        "cnn.add(tf.keras.layers.Conv2D(filters=128, kernel_size=3, activation='relu'))\n",
        "cnn.add(tf.keras.layers.MaxPool2D(pool_size=2, strides=2))\n",
        "\n",
        "cnn.add(tf.keras.layers.Conv2D(filters=128, kernel_size=3, activation='relu'))\n",
        "cnn.add(tf.keras.layers.MaxPool2D(pool_size=2, strides=2))"
      ]
    },
    {
      "cell_type": "markdown",
      "metadata": {
        "id": "yiRa5y66YhiG"
      },
      "source": [
        "## Step 3 - Flattening"
      ]
    },
    {
      "cell_type": "code",
      "execution_count": 12,
      "metadata": {
        "id": "Pk2bn2b6Yk8A"
      },
      "outputs": [],
      "source": [
        "cnn.add(tf.keras.layers.Flatten())"
      ]
    },
    {
      "cell_type": "markdown",
      "metadata": {
        "id": "8wrb7Ci2Ys8g"
      },
      "source": [
        "## Step 4 - Full Connection"
      ]
    },
    {
      "cell_type": "code",
      "execution_count": 13,
      "metadata": {
        "id": "gxiWH8j2YvXk"
      },
      "outputs": [],
      "source": [
        "cnn.add(tf.keras.layers.Dense(units=256, activation='relu'))\n",
        "cnn.add(tf.keras.layers.Dropout(0.5))\n",
        "\n",
        "cnn.add(tf.keras.layers.Dense(units=128, activation='relu'))\n",
        "cnn.add(tf.keras.layers.Dropout(0.5))"
      ]
    },
    {
      "cell_type": "markdown",
      "metadata": {
        "id": "Czohty1oYwlz"
      },
      "source": [
        "## Step 5 - Output Layer"
      ]
    },
    {
      "cell_type": "code",
      "execution_count": 14,
      "metadata": {
        "id": "myutisU_Y0aL"
      },
      "outputs": [],
      "source": [
        "cnn.add(tf.keras.layers.Dense(units=10, activation='softmax'))"
      ]
    },
    {
      "cell_type": "markdown",
      "metadata": {
        "id": "3GbvpwLPY20Y"
      },
      "source": [
        "# Part 3 - Training the CNN"
      ]
    },
    {
      "cell_type": "markdown",
      "metadata": {
        "id": "funDkkwdZAam"
      },
      "source": [
        "## Compiling the CNN"
      ]
    },
    {
      "cell_type": "code",
      "execution_count": 15,
      "metadata": {
        "id": "kraInq8RZCde"
      },
      "outputs": [],
      "source": [
        "# Early Stopping\n",
        "early_stopping = EarlyStopping(monitor='val_loss', patience=10, restore_best_weights=True)\n",
        "\n",
        "# Reduce Learning Rate when a metric has stopped improving.\n",
        "reduce_lr = ReduceLROnPlateau(monitor='val_loss', factor=0.2, patience=5, min_lr=0.0001)\n",
        "\n",
        "cnn.compile(optimizer='adam', loss='categorical_crossentropy', metrics=['accuracy'])"
      ]
    },
    {
      "cell_type": "markdown",
      "metadata": {
        "id": "laU6LXEYZDzn"
      },
      "source": [
        "## Training the CNN on the Training set and evaluating it on the Test set"
      ]
    },
    {
      "cell_type": "markdown",
      "metadata": {
        "id": "c66gMOj1vRnu"
      },
      "source": [
        "Epoch 50/50\n",
        "74/74 [==============================] - 12s 163ms/step - loss: 0.4326 - accuracy: 0.8478 - val_loss: 0.7329 - val_accuracy: 0.7800\n",
        "<keras.src.callbacks.History at 0x78c0b5103280>"
      ]
    },
    {
      "cell_type": "code",
      "execution_count": 17,
      "metadata": {
        "colab": {
          "base_uri": "https://localhost:8080/"
        },
        "id": "VO1ekCyXpYEJ",
        "outputId": "2d4793cb-8aa8-445a-d699-22068cc1b41d"
      },
      "outputs": [
        {
          "name": "stdout",
          "output_type": "stream",
          "text": [
            "Epoch 1/100\n",
            "74/74 [==============================] - 20s 177ms/step - loss: 2.2972 - accuracy: 0.0915 - val_loss: 2.2181 - val_accuracy: 0.1400 - lr: 0.0010\n",
            "Epoch 2/100\n",
            "74/74 [==============================] - 11s 147ms/step - loss: 2.0760 - accuracy: 0.1937 - val_loss: 2.5398 - val_accuracy: 0.1200 - lr: 0.0010\n",
            "Epoch 3/100\n",
            "74/74 [==============================] - 12s 159ms/step - loss: 1.9656 - accuracy: 0.2112 - val_loss: 2.2856 - val_accuracy: 0.1600 - lr: 0.0010\n",
            "Epoch 4/100\n",
            "74/74 [==============================] - 12s 159ms/step - loss: 1.8826 - accuracy: 0.2505 - val_loss: 2.0819 - val_accuracy: 0.2000 - lr: 0.0010\n",
            "Epoch 5/100\n",
            "74/74 [==============================] - 11s 151ms/step - loss: 1.8460 - accuracy: 0.2706 - val_loss: 2.3303 - val_accuracy: 0.2000 - lr: 0.0010\n",
            "Epoch 6/100\n",
            "74/74 [==============================] - 12s 159ms/step - loss: 1.7340 - accuracy: 0.3001 - val_loss: 1.9038 - val_accuracy: 0.2400 - lr: 0.0010\n",
            "Epoch 7/100\n",
            "74/74 [==============================] - 12s 159ms/step - loss: 1.7048 - accuracy: 0.3194 - val_loss: 1.7423 - val_accuracy: 0.3400 - lr: 0.0010\n",
            "Epoch 8/100\n",
            "74/74 [==============================] - 12s 161ms/step - loss: 1.6424 - accuracy: 0.3600 - val_loss: 2.4338 - val_accuracy: 0.2000 - lr: 0.0010\n",
            "Epoch 9/100\n",
            "74/74 [==============================] - 12s 159ms/step - loss: 1.6008 - accuracy: 0.3711 - val_loss: 1.5828 - val_accuracy: 0.4200 - lr: 0.0010\n",
            "Epoch 10/100\n",
            "74/74 [==============================] - 12s 161ms/step - loss: 1.5315 - accuracy: 0.4151 - val_loss: 1.7008 - val_accuracy: 0.3600 - lr: 0.0010\n",
            "Epoch 11/100\n",
            "74/74 [==============================] - 12s 162ms/step - loss: 1.4273 - accuracy: 0.4425 - val_loss: 1.4270 - val_accuracy: 0.4600 - lr: 0.0010\n",
            "Epoch 12/100\n",
            "74/74 [==============================] - 12s 162ms/step - loss: 1.3999 - accuracy: 0.4652 - val_loss: 1.3938 - val_accuracy: 0.4600 - lr: 0.0010\n",
            "Epoch 13/100\n",
            "74/74 [==============================] - 11s 149ms/step - loss: 1.3420 - accuracy: 0.4746 - val_loss: 1.3593 - val_accuracy: 0.5000 - lr: 0.0010\n",
            "Epoch 14/100\n",
            "74/74 [==============================] - 11s 151ms/step - loss: 1.2914 - accuracy: 0.5011 - val_loss: 1.5038 - val_accuracy: 0.4600 - lr: 0.0010\n",
            "Epoch 15/100\n",
            "74/74 [==============================] - 12s 160ms/step - loss: 1.2507 - accuracy: 0.5254 - val_loss: 1.4070 - val_accuracy: 0.4400 - lr: 0.0010\n",
            "Epoch 16/100\n",
            "74/74 [==============================] - 12s 160ms/step - loss: 1.1712 - accuracy: 0.5455 - val_loss: 1.3267 - val_accuracy: 0.5200 - lr: 0.0010\n",
            "Epoch 17/100\n",
            "74/74 [==============================] - 12s 159ms/step - loss: 1.1304 - accuracy: 0.5767 - val_loss: 1.0616 - val_accuracy: 0.5400 - lr: 0.0010\n",
            "Epoch 18/100\n",
            "74/74 [==============================] - 12s 160ms/step - loss: 1.0826 - accuracy: 0.5990 - val_loss: 1.4832 - val_accuracy: 0.4600 - lr: 0.0010\n",
            "Epoch 19/100\n",
            "74/74 [==============================] - 12s 158ms/step - loss: 1.0671 - accuracy: 0.5977 - val_loss: 1.0979 - val_accuracy: 0.5400 - lr: 0.0010\n",
            "Epoch 20/100\n",
            "74/74 [==============================] - 11s 151ms/step - loss: 1.0011 - accuracy: 0.6293 - val_loss: 0.9116 - val_accuracy: 0.5800 - lr: 0.0010\n",
            "Epoch 21/100\n",
            "74/74 [==============================] - 11s 150ms/step - loss: 1.0519 - accuracy: 0.6182 - val_loss: 1.2351 - val_accuracy: 0.5400 - lr: 0.0010\n",
            "Epoch 22/100\n",
            "74/74 [==============================] - 12s 166ms/step - loss: 0.9417 - accuracy: 0.6370 - val_loss: 1.2953 - val_accuracy: 0.4600 - lr: 0.0010\n",
            "Epoch 23/100\n",
            "74/74 [==============================] - 12s 160ms/step - loss: 0.8978 - accuracy: 0.6567 - val_loss: 0.9146 - val_accuracy: 0.5800 - lr: 0.0010\n",
            "Epoch 24/100\n",
            "74/74 [==============================] - 12s 154ms/step - loss: 0.8774 - accuracy: 0.6858 - val_loss: 1.0982 - val_accuracy: 0.6000 - lr: 0.0010\n",
            "Epoch 25/100\n",
            "74/74 [==============================] - 12s 160ms/step - loss: 0.8105 - accuracy: 0.6905 - val_loss: 1.1963 - val_accuracy: 0.5400 - lr: 0.0010\n",
            "Epoch 26/100\n",
            "74/74 [==============================] - 12s 161ms/step - loss: 0.7425 - accuracy: 0.7200 - val_loss: 0.9468 - val_accuracy: 0.5800 - lr: 2.0000e-04\n",
            "Epoch 27/100\n",
            "74/74 [==============================] - 11s 146ms/step - loss: 0.6941 - accuracy: 0.7426 - val_loss: 0.9543 - val_accuracy: 0.6200 - lr: 2.0000e-04\n",
            "Epoch 28/100\n",
            "74/74 [==============================] - 12s 159ms/step - loss: 0.6810 - accuracy: 0.7580 - val_loss: 1.0914 - val_accuracy: 0.5600 - lr: 2.0000e-04\n",
            "Epoch 29/100\n",
            "74/74 [==============================] - 12s 162ms/step - loss: 0.6456 - accuracy: 0.7589 - val_loss: 0.8398 - val_accuracy: 0.6400 - lr: 2.0000e-04\n",
            "Epoch 30/100\n",
            "74/74 [==============================] - 12s 159ms/step - loss: 0.6625 - accuracy: 0.7520 - val_loss: 1.0518 - val_accuracy: 0.6000 - lr: 2.0000e-04\n",
            "Epoch 31/100\n",
            "74/74 [==============================] - 12s 160ms/step - loss: 0.6535 - accuracy: 0.7576 - val_loss: 0.9056 - val_accuracy: 0.6200 - lr: 2.0000e-04\n",
            "Epoch 32/100\n",
            "74/74 [==============================] - 11s 147ms/step - loss: 0.6385 - accuracy: 0.7627 - val_loss: 0.7875 - val_accuracy: 0.6000 - lr: 2.0000e-04\n",
            "Epoch 33/100\n",
            "74/74 [==============================] - 12s 161ms/step - loss: 0.6103 - accuracy: 0.7755 - val_loss: 0.7883 - val_accuracy: 0.6400 - lr: 2.0000e-04\n",
            "Epoch 34/100\n",
            "74/74 [==============================] - 12s 163ms/step - loss: 0.6188 - accuracy: 0.7670 - val_loss: 0.9748 - val_accuracy: 0.6200 - lr: 2.0000e-04\n",
            "Epoch 35/100\n",
            "74/74 [==============================] - 11s 147ms/step - loss: 0.6029 - accuracy: 0.7781 - val_loss: 0.8379 - val_accuracy: 0.6200 - lr: 2.0000e-04\n",
            "Epoch 36/100\n",
            "74/74 [==============================] - 11s 149ms/step - loss: 0.5963 - accuracy: 0.7798 - val_loss: 0.8535 - val_accuracy: 0.6600 - lr: 2.0000e-04\n",
            "Epoch 37/100\n",
            "74/74 [==============================] - 12s 159ms/step - loss: 0.5940 - accuracy: 0.7790 - val_loss: 0.8120 - val_accuracy: 0.6800 - lr: 2.0000e-04\n",
            "Epoch 38/100\n",
            "74/74 [==============================] - 12s 162ms/step - loss: 0.5435 - accuracy: 0.8003 - val_loss: 0.7812 - val_accuracy: 0.6400 - lr: 1.0000e-04\n",
            "Epoch 39/100\n",
            "74/74 [==============================] - 12s 158ms/step - loss: 0.5628 - accuracy: 0.7905 - val_loss: 0.7564 - val_accuracy: 0.6800 - lr: 1.0000e-04\n",
            "Epoch 40/100\n",
            "74/74 [==============================] - 11s 142ms/step - loss: 0.5697 - accuracy: 0.7785 - val_loss: 0.8340 - val_accuracy: 0.6400 - lr: 1.0000e-04\n",
            "Epoch 41/100\n",
            "74/74 [==============================] - 12s 157ms/step - loss: 0.5715 - accuracy: 0.7794 - val_loss: 0.6947 - val_accuracy: 0.6800 - lr: 1.0000e-04\n",
            "Epoch 42/100\n",
            "74/74 [==============================] - 12s 161ms/step - loss: 0.5215 - accuracy: 0.8025 - val_loss: 0.7447 - val_accuracy: 0.6800 - lr: 1.0000e-04\n",
            "Epoch 43/100\n",
            "74/74 [==============================] - 12s 162ms/step - loss: 0.5262 - accuracy: 0.8102 - val_loss: 0.9458 - val_accuracy: 0.6600 - lr: 1.0000e-04\n",
            "Epoch 44/100\n",
            "74/74 [==============================] - 12s 162ms/step - loss: 0.5333 - accuracy: 0.8050 - val_loss: 0.6956 - val_accuracy: 0.7000 - lr: 1.0000e-04\n",
            "Epoch 45/100\n",
            "74/74 [==============================] - 12s 161ms/step - loss: 0.5359 - accuracy: 0.8080 - val_loss: 0.6731 - val_accuracy: 0.7200 - lr: 1.0000e-04\n",
            "Epoch 46/100\n",
            "74/74 [==============================] - 12s 161ms/step - loss: 0.5034 - accuracy: 0.8106 - val_loss: 0.8051 - val_accuracy: 0.7000 - lr: 1.0000e-04\n",
            "Epoch 47/100\n",
            "74/74 [==============================] - 12s 162ms/step - loss: 0.4912 - accuracy: 0.8170 - val_loss: 0.8335 - val_accuracy: 0.7000 - lr: 1.0000e-04\n",
            "Epoch 48/100\n",
            "74/74 [==============================] - 12s 160ms/step - loss: 0.5082 - accuracy: 0.8200 - val_loss: 0.9108 - val_accuracy: 0.6800 - lr: 1.0000e-04\n",
            "Epoch 49/100\n",
            "74/74 [==============================] - 11s 145ms/step - loss: 0.5360 - accuracy: 0.7991 - val_loss: 0.8613 - val_accuracy: 0.7200 - lr: 1.0000e-04\n",
            "Epoch 50/100\n",
            "74/74 [==============================] - 12s 162ms/step - loss: 0.4927 - accuracy: 0.8127 - val_loss: 0.8540 - val_accuracy: 0.6200 - lr: 1.0000e-04\n",
            "Epoch 51/100\n",
            "74/74 [==============================] - 12s 164ms/step - loss: 0.5177 - accuracy: 0.7892 - val_loss: 0.9278 - val_accuracy: 0.6600 - lr: 1.0000e-04\n",
            "Epoch 52/100\n",
            "74/74 [==============================] - 12s 160ms/step - loss: 0.5127 - accuracy: 0.8162 - val_loss: 0.8207 - val_accuracy: 0.6400 - lr: 1.0000e-04\n",
            "Epoch 53/100\n",
            "74/74 [==============================] - 12s 161ms/step - loss: 0.4890 - accuracy: 0.8097 - val_loss: 0.8076 - val_accuracy: 0.6800 - lr: 1.0000e-04\n",
            "Epoch 54/100\n",
            "74/74 [==============================] - 12s 162ms/step - loss: 0.4833 - accuracy: 0.8153 - val_loss: 0.8720 - val_accuracy: 0.6600 - lr: 1.0000e-04\n",
            "Epoch 55/100\n",
            "74/74 [==============================] - 12s 161ms/step - loss: 0.4871 - accuracy: 0.8213 - val_loss: 0.8764 - val_accuracy: 0.6600 - lr: 1.0000e-04\n"
          ]
        }
      ],
      "source": [
        "history = cnn.fit(x=training_set, validation_data=validation_set, epochs=100, callbacks=[early_stopping, reduce_lr])"
      ]
    },
    {
      "cell_type": "code",
      "execution_count": 18,
      "metadata": {
        "colab": {
          "base_uri": "https://localhost:8080/",
          "height": 472
        },
        "id": "e4FLQett2fvF",
        "outputId": "9f80c4e3-2536-4332-8790-b8f7c92522a3"
      },
      "outputs": [
        {
          "data": {
            "image/png": "[encoded data removed]",
            "text/plain": [
              "<Figure size 640x480 with 1 Axes>"
            ]
          },
          "metadata": {},
          "output_type": "display_data"
        }
      ],
      "source": [
        "import matplotlib.pyplot as plt\n",
        "\n",
        "# Ambil data akurasi dari riwayat pelatihan\n",
        "train_accuracy = history.history['accuracy']\n",
        "val_accuracy = history.history['val_accuracy']\n",
        "\n",
        "# Ambil jumlah epochs\n",
        "epochs = range(1, len(train_accuracy) + 1)\n",
        "\n",
        "# Buat plot akurasi pelatihan dan validasi\n",
        "plt.plot(epochs, train_accuracy, 'bo', label='Training Accuracy')\n",
        "plt.plot(epochs, val_accuracy, 'b', label='Validation Accuracy')\n",
        "plt.title('Training and Validation Accuracy')\n",
        "plt.xlabel('Epochs')\n",
        "plt.ylabel('Accuracy')\n",
        "plt.legend()\n",
        "\n",
        "# Tampilkan plot\n",
        "plt.show()"
      ]
    },
    {
      "cell_type": "markdown",
      "metadata": {
        "id": "Dv2HpAMWZJ5V"
      },
      "source": [
        "# Part 4 - Making a single prediction with image upload"
      ]
    },
    {
      "cell_type": "code",
      "execution_count": 19,
      "metadata": {
        "id": "uxdsadYnbXI0"
      },
      "outputs": [],
      "source": [
        "import numpy as np\n",
        "from keras.preprocessing import image\n",
        "from google.colab import files\n",
        "from IPython.display import Image"
      ]
    },
    {
      "cell_type": "code",
      "execution_count": 40,
      "metadata": {
        "colab": {
          "base_uri": "https://localhost:8080/",
          "height": 331
        },
        "id": "smYiLSaQbakT",
        "outputId": "55ac6718-4fd1-4465-9e8a-4482d4457437"
      },
      "outputs": [
        {
          "data": {
            "text/html": [
              "\n",
              "     <input type=\"file\" id=\"files-9508be6b-6e1d-44cd-be53-63cebeb1ea4d\" name=\"files[]\" multiple disabled\n",
              "        style=\"border:none\" />\n",
              "     <output id=\"result-9508be6b-6e1d-44cd-be53-63cebeb1ea4d\">\n",
              "      Upload widget is only available when the cell has been executed in the\n",
              "      current browser session. Please rerun this cell to enable.\n",
              "      </output>\n",
              "      <script>// Copyright 2017 Google LLC\n",
              "//\n",
              "// Licensed under the Apache License, Version 2.0 (the \"License\");\n",
              "// you may not use this file except in compliance with the License.\n",
              "// You may obtain a copy of the License at\n",
              "//\n",
              "//      http://www.apache.org/licenses/LICENSE-2.0\n",
              "//\n",
              "// Unless required by applicable law or agreed to in writing, software\n",
              "// distributed under the License is distributed on an \"AS IS\" BASIS,\n",
              "// WITHOUT WARRANTIES OR CONDITIONS OF ANY KIND, either express or implied.\n",
              "// See the License for the specific language governing permissions and\n",
              "// limitations under the License.\n",
              "\n",
              "/**\n",
              " * @fileoverview Helpers for google.colab Python module.\n",
              " */\n",
              "(function(scope) {\n",
              "function span(text, styleAttributes = {}) {\n",
              "  const element = document.createElement('span');\n",
              "  element.textContent = text;\n",
              "  for (const key of Object.keys(styleAttributes)) {\n",
              "    element.style[key] = styleAttributes[key];\n",
              "  }\n",
              "  return element;\n",
              "}\n",
              "\n",
              "// Max number of bytes which will be uploaded at a time.\n",
              "const MAX_PAYLOAD_SIZE = 100 * 1024;\n",
              "\n",
              "function _uploadFiles(inputId, outputId) {\n",
              "  const steps = uploadFilesStep(inputId, outputId);\n",
              "  const outputElement = document.getElementById(outputId);\n",
              "  // Cache steps on the outputElement to make it available for the next call\n",
              "  // to uploadFilesContinue from Python.\n",
              "  outputElement.steps = steps;\n",
              "\n",
              "  return _uploadFilesContinue(outputId);\n",
              "}\n",
              "\n",
              "// This is roughly an async generator (not supported in the browser yet),\n",
              "// where there are multiple asynchronous steps and the Python side is going\n",
              "// to poll for completion of each step.\n",
              "// This uses a Promise to block the python side on completion of each step,\n",
              "// then passes the result of the previous step as the input to the next step.\n",
              "function _uploadFilesContinue(outputId) {\n",
              "  const outputElement = document.getElementById(outputId);\n",
              "  const steps = outputElement.steps;\n",
              "\n",
              "  const next = steps.next(outputElement.lastPromiseValue);\n",
              "  return Promise.resolve(next.value.promise).then((value) => {\n",
              "    // Cache the last promise value to make it available to the next\n",
              "    // step of the generator.\n",
              "    outputElement.lastPromiseValue = value;\n",
              "    return next.value.response;\n",
              "  });\n",
              "}\n",
              "\n",
              "/**\n",
              " * Generator function which is called between each async step of the upload\n",
              " * process.\n",
              " * @param {string} inputId Element ID of the input file picker element.\n",
              " * @param {string} outputId Element ID of the output display.\n",
              " * @return {!Iterable<!Object>} Iterable of next steps.\n",
              " */\n",
              "function* uploadFilesStep(inputId, outputId) {\n",
              "  const inputElement = document.getElementById(inputId);\n",
              "  inputElement.disabled = false;\n",
              "\n",
              "  const outputElement = document.getElementById(outputId);\n",
              "  outputElement.innerHTML = '';\n",
              "\n",
              "  const pickedPromise = new Promise((resolve) => {\n",
              "    inputElement.addEventListener('change', (e) => {\n",
              "      resolve(e.target.files);\n",
              "    });\n",
              "  });\n",
              "\n",
              "  const cancel = document.createElement('button');\n",
              "  inputElement.parentElement.appendChild(cancel);\n",
              "  cancel.textContent = 'Cancel upload';\n",
              "  const cancelPromise = new Promise((resolve) => {\n",
              "    cancel.onclick = () => {\n",
              "      resolve(null);\n",
              "    };\n",
              "  });\n",
              "\n",
              "  // Wait for the user to pick the files.\n",
              "  const files = yield {\n",
              "    promise: Promise.race([pickedPromise, cancelPromise]),\n",
              "    response: {\n",
              "      action: 'starting',\n",
              "    }\n",
              "  };\n",
              "\n",
              "  cancel.remove();\n",
              "\n",
              "  // Disable the input element since further picks are not allowed.\n",
              "  inputElement.disabled = true;\n",
              "\n",
              "  if (!files) {\n",
              "    return {\n",
              "      response: {\n",
              "        action: 'complete',\n",
              "      }\n",
              "    };\n",
              "  }\n",
              "\n",
              "  for (const file of files) {\n",
              "    const li = document.createElement('li');\n",
              "    li.append(span(file.name, {fontWeight: 'bold'}));\n",
              "    li.append(span(\n",
              "        `(${file.type || 'n/a'}) - ${file.size} bytes, ` +\n",
              "        `last modified: ${\n",
              "            file.lastModifiedDate ? file.lastModifiedDate.toLocaleDateString() :\n",
              "                                    'n/a'} - `));\n",
              "    const percent = span('0% done');\n",
              "    li.appendChild(percent);\n",
              "\n",
              "    outputElement.appendChild(li);\n",
              "\n",
              "    const fileDataPromise = new Promise((resolve) => {\n",
              "      const reader = new FileReader();\n",
              "      reader.onload = (e) => {\n",
              "        resolve(e.target.result);\n",
              "      };\n",
              "      reader.readAsArrayBuffer(file);\n",
              "    });\n",
              "    // Wait for the data to be ready.\n",
              "    let fileData = yield {\n",
              "      promise: fileDataPromise,\n",
              "      response: {\n",
              "        action: 'continue',\n",
              "      }\n",
              "    };\n",
              "\n",
              "    // Use a chunked sending to avoid message size limits. See b/62115660.\n",
              "    let position = 0;\n",
              "    do {\n",
              "      const length = Math.min(fileData.byteLength - position, MAX_PAYLOAD_SIZE);\n",
              "      const chunk = new Uint8Array(fileData, position, length);\n",
              "      position += length;\n",
              "\n",
              "      const base64 = btoa(String.fromCharCode.apply(null, chunk));\n",
              "      yield {\n",
              "        response: {\n",
              "          action: 'append',\n",
              "          file: file.name,\n",
              "          data: base64,\n",
              "        },\n",
              "      };\n",
              "\n",
              "      let percentDone = fileData.byteLength === 0 ?\n",
              "          100 :\n",
              "          Math.round((position / fileData.byteLength) * 100);\n",
              "      percent.textContent = `${percentDone}% done`;\n",
              "\n",
              "    } while (position < fileData.byteLength);\n",
              "  }\n",
              "\n",
              "  // All done.\n",
              "  yield {\n",
              "    response: {\n",
              "      action: 'complete',\n",
              "    }\n",
              "  };\n",
              "}\n",
              "\n",
              "scope.google = scope.google || {};\n",
              "scope.google.colab = scope.google.colab || {};\n",
              "scope.google.colab._files = {\n",
              "  _uploadFiles,\n",
              "  _uploadFilesContinue,\n",
              "};\n",
              "})(self);\n",
              "</script> "
            ],
            "text/plain": [
              "<IPython.core.display.HTML object>"
            ]
          },
          "metadata": {},
          "output_type": "display_data"
        },
        {
          "name": "stdout",
          "output_type": "stream",
          "text": [
            "Saving 5.jpg to 5 (3).jpg\n",
            "1/1 [==============================] - 0s 35ms/step\n"
          ]
        },
        {
          "data": {
            "image/jpeg": "[encoded data removed]",
            "text/plain": [
              "<IPython.core.display.Image object>"
            ]
          },
          "metadata": {},
          "output_type": "display_data"
        },
        {
          "name": "stdout",
          "output_type": "stream",
          "text": [
            "Predicted class: OCELOT\n"
          ]
        }
      ],
      "source": [
        "# Upload image\n",
        "uploaded = files.upload()\n",
        "\n",
        "\n",
        "for filename in uploaded.keys():\n",
        "    # Load and preprocess the image\n",
        "    test_image = image.load_img(filename, target_size=(128, 128))\n",
        "    test_image = image.img_to_array(test_image)\n",
        "    test_image = np.expand_dims(test_image, axis=0)\n",
        "\n",
        "    # Predict the class\n",
        "    result = cnn.predict(test_image)\n",
        "    class_indices = training_set.class_indices\n",
        "    class_indices = {v: k for k, v in class_indices.items()}\n",
        "    prediction = class_indices[np.argmax(result)]\n",
        "\n",
        "    # Display the image and prediction\n",
        "    display(Image(filename=filename))\n",
        "    print(f\"Predicted class: {prediction}\")"
      ]
    },
    {
      "cell_type": "code",
      "execution_count": null,
      "metadata": {
        "colab": {
          "base_uri": "https://localhost:8080/"
        },
        "id": "xk1s393bBCBO",
        "outputId": "4649d1f7-c0b8-4a4b-af9e-c1aa0dcca08a"
      },
      "outputs": [
        {
          "name": "stdout",
          "output_type": "stream",
          "text": [
            "Model telah disimpan sebagai cnn_model.h5\n"
          ]
        },
        {
          "name": "stderr",
          "output_type": "stream",
          "text": [
            "/usr/local/lib/python3.10/dist-packages/keras/src/engine/training.py:3103: UserWarning: You are saving your model as an HDF5 file via `model.save()`. This file format is considered legacy. We recommend using instead the native Keras format, e.g. `model.save('my_model.keras')`.\n",
            "  saving_api.save_model(\n"
          ]
        }
      ],
      "source": [
        "# Simpan model ke dalam format HDF5 secara lokal\n",
        "cnn.save('cnn_model.h5')\n",
        "print(\"Model telah disimpan sebagai cnn_model.h5\")"
      ]
    }
  ],
  "metadata": {
    "accelerator": "GPU",
    "colab": {
      "gpuType": "T4",
      "provenance": []
    },
    "kernelspec": {
      "display_name": "Python 3",
      "name": "python3"
    },
    "language_info": {
      "name": "python"
    }
  },
  "nbformat": 4,
  "nbformat_minor": 0
}
